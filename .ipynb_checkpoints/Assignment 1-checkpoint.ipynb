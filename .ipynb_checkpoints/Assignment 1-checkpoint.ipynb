{
 "cells": [
  {
   "cell_type": "code",
   "execution_count": 1,
   "id": "6b02cbc5",
   "metadata": {},
   "outputs": [
    {
     "data": {
      "text/plain": [
       "str"
      ]
     },
     "execution_count": 1,
     "metadata": {},
     "output_type": "execute_result"
    }
   ],
   "source": [
    "a=\"nandu\"\n",
    "type(a)"
   ]
  },
  {
   "cell_type": "code",
   "execution_count": 2,
   "id": "a735452b",
   "metadata": {},
   "outputs": [
    {
     "data": {
      "text/plain": [
       "list"
      ]
     },
     "execution_count": 2,
     "metadata": {},
     "output_type": "execute_result"
    }
   ],
   "source": [
    "b=[1,2,\"aayu\",12.3]\n",
    "type(b)"
   ]
  },
  {
   "cell_type": "code",
   "execution_count": 3,
   "id": "91e1cb35",
   "metadata": {},
   "outputs": [
    {
     "data": {
      "text/plain": [
       "float"
      ]
     },
     "execution_count": 3,
     "metadata": {},
     "output_type": "execute_result"
    }
   ],
   "source": [
    "c=12.3\n",
    "type(c)"
   ]
  },
  {
   "cell_type": "code",
   "execution_count": 4,
   "id": "050239cc",
   "metadata": {},
   "outputs": [
    {
     "data": {
      "text/plain": [
       "tuple"
      ]
     },
     "execution_count": 4,
     "metadata": {},
     "output_type": "execute_result"
    }
   ],
   "source": [
    "d=(1,2,\"hello\")\n",
    "type(d)"
   ]
  },
  {
   "cell_type": "markdown",
   "id": "d7399a43",
   "metadata": {},
   "source": [
    "# Question 2\n"
   ]
  },
  {
   "cell_type": "code",
   "execution_count": 5,
   "id": "743a72bc",
   "metadata": {},
   "outputs": [
    {
     "data": {
      "text/plain": [
       "str"
      ]
     },
     "execution_count": 5,
     "metadata": {},
     "output_type": "execute_result"
    }
   ],
   "source": [
    "var1=''\n",
    "type(var1)"
   ]
  },
  {
   "cell_type": "code",
   "execution_count": 6,
   "id": "91b73aa2",
   "metadata": {},
   "outputs": [
    {
     "data": {
      "text/plain": [
       "str"
      ]
     },
     "execution_count": 6,
     "metadata": {},
     "output_type": "execute_result"
    }
   ],
   "source": [
    "var2='[DS,ML,Python]'\n",
    "type(var2)"
   ]
  },
  {
   "cell_type": "code",
   "execution_count": 7,
   "id": "e76e31c3",
   "metadata": {},
   "outputs": [
    {
     "data": {
      "text/plain": [
       "list"
      ]
     },
     "execution_count": 7,
     "metadata": {},
     "output_type": "execute_result"
    }
   ],
   "source": [
    "var3=[\"DS\",\"ML\",\"Python\"]\n",
    "type(var3)\n"
   ]
  },
  {
   "cell_type": "code",
   "execution_count": 8,
   "id": "b6aa91be",
   "metadata": {},
   "outputs": [
    {
     "data": {
      "text/plain": [
       "int"
      ]
     },
     "execution_count": 8,
     "metadata": {},
     "output_type": "execute_result"
    }
   ],
   "source": [
    "var4=1\n",
    "type(var4)"
   ]
  },
  {
   "cell_type": "markdown",
   "id": "fb7c2633",
   "metadata": {},
   "source": [
    "# question 3"
   ]
  },
  {
   "cell_type": "code",
   "execution_count": 9,
   "id": "622e55b9",
   "metadata": {},
   "outputs": [],
   "source": [
    "# Arithmetic operators are used to perform mathematical operations like addition, subtraction, multiplication, etc. "
   ]
  },
  {
   "cell_type": "code",
   "execution_count": 10,
   "id": "ef56e9d3",
   "metadata": {},
   "outputs": [
    {
     "data": {
      "text/plain": [
       "2.0"
      ]
     },
     "execution_count": 10,
     "metadata": {},
     "output_type": "execute_result"
    }
   ],
   "source": [
    "10/5"
   ]
  },
  {
   "cell_type": "code",
   "execution_count": 11,
   "id": "ae9742dd",
   "metadata": {},
   "outputs": [
    {
     "data": {
      "text/plain": [
       "0"
      ]
     },
     "execution_count": 11,
     "metadata": {},
     "output_type": "execute_result"
    }
   ],
   "source": [
    "10%5"
   ]
  },
  {
   "cell_type": "code",
   "execution_count": 12,
   "id": "f5656ed9",
   "metadata": {},
   "outputs": [
    {
     "data": {
      "text/plain": [
       "2"
      ]
     },
     "execution_count": 12,
     "metadata": {},
     "output_type": "execute_result"
    }
   ],
   "source": [
    "10//5"
   ]
  },
  {
   "cell_type": "code",
   "execution_count": 13,
   "id": "92912455",
   "metadata": {},
   "outputs": [
    {
     "data": {
      "text/plain": [
       "100"
      ]
     },
     "execution_count": 13,
     "metadata": {},
     "output_type": "execute_result"
    }
   ],
   "source": [
    "10**2"
   ]
  },
  {
   "cell_type": "markdown",
   "id": "1434d15b",
   "metadata": {},
   "source": [
    "# question 4\n"
   ]
  },
  {
   "cell_type": "code",
   "execution_count": 14,
   "id": "69dbd7bf",
   "metadata": {},
   "outputs": [],
   "source": [
    "lst=[1,12.3,\"nandu\",True,[3,4],(\"hello\"),{1,2},{'name':\"nandu\"},23,\"aayu\"]\n",
    "count = 1\n"
   ]
  },
  {
   "cell_type": "code",
   "execution_count": 15,
   "id": "d650b349",
   "metadata": {},
   "outputs": [
    {
     "name": "stdout",
     "output_type": "stream",
     "text": [
      "1 1 <class 'int'>\n",
      "2 12.3 <class 'float'>\n",
      "3 nandu <class 'str'>\n",
      "4 True <class 'bool'>\n",
      "5 [3, 4] <class 'list'>\n",
      "6 hello <class 'str'>\n",
      "7 {1, 2} <class 'set'>\n",
      "8 {'name': 'nandu'} <class 'dict'>\n",
      "9 23 <class 'int'>\n",
      "10 aayu <class 'str'>\n"
     ]
    }
   ],
   "source": [
    "for i in lst:\n",
    "    print(count,i,type(i))\n",
    "    count +=1"
   ]
  },
  {
   "cell_type": "markdown",
   "id": "3a4efa10",
   "metadata": {},
   "source": [
    "# question 5"
   ]
  },
  {
   "cell_type": "code",
   "execution_count": 16,
   "id": "d8580f2f",
   "metadata": {},
   "outputs": [
    {
     "name": "stdout",
     "output_type": "stream",
     "text": [
      "1\n"
     ]
    }
   ],
   "source": [
    "a=10\n",
    "b=2\n",
    "count=0\n",
    "while (a%b)==0:\n",
    "    a//=b    \n",
    "    count +=1\n",
    "print(count)"
   ]
  },
  {
   "cell_type": "markdown",
   "id": "81fc09a9",
   "metadata": {},
   "source": [
    "# question 6 "
   ]
  },
  {
   "cell_type": "code",
   "execution_count": 17,
   "id": "a9dc52ae",
   "metadata": {},
   "outputs": [
    {
     "name": "stdout",
     "output_type": "stream",
     "text": [
      "3 is divisible by 3 \n",
      "6 is divisible by 3 \n",
      "9 is divisible by 3 \n",
      "12 is divisible by 3 \n",
      "15 is divisible by 3 \n",
      "18 is divisible by 3 \n",
      "21 is divisible by 3 \n",
      "24 is divisible by 3 \n"
     ]
    }
   ],
   "source": [
    "lst=[1,2,3,4,5,6,7,8,9,10,11,12,13,14,15,16,17,18,19,20,21,22,23,24,25]\n",
    "for i in lst:\n",
    "    if(i%3==0):\n",
    "        print(i,\"is divisible by 3 \")\n",
    "    else:\n",
    "        # print(\"not divisible by 3\")\n",
    "        continue"
   ]
  },
  {
   "cell_type": "markdown",
   "id": "2f25b186",
   "metadata": {},
   "source": [
    "# question 7"
   ]
  },
  {
   "cell_type": "code",
   "execution_count": 18,
   "id": "7b92d847",
   "metadata": {},
   "outputs": [
    {
     "name": "stdout",
     "output_type": "stream",
     "text": [
      "[1, 2, 3, 4]\n"
     ]
    }
   ],
   "source": [
    "#Mutable: Mutable data types are those that can be modified or changed after they are created. When an object or variable of a mutable data type is modified, its internal state can be altered without creating a new object. Examples of mutable data types include lists, dictionaries, and sets in Python. If you have a list and you append an element to it, the original list is modified.\n",
    "my_list = [1, 2, 3]\n",
    "my_list.append(4)\n",
    "print(my_list)  # Output: [1, 2, 3, 4]\n"
   ]
  },
  {
   "cell_type": "code",
   "execution_count": 19,
   "id": "b492f5bb",
   "metadata": {},
   "outputs": [
    {
     "name": "stdout",
     "output_type": "stream",
     "text": [
      "Hello\n",
      "Hello World\n"
     ]
    }
   ],
   "source": [
    "#Immutable: Immutable data types, on the other hand, are those that cannot be changed once they are created. If you want to modify an immutable object, you need to create a new object with the desired changes. Immutable objects preserve their original value throughout their lifetime. Examples of immutable data types include numbers, strings, and tuples in Python. If you have a string and you want to change its content, you need to create a new string with the desired modifications.\n",
    "my_string = \"Hello\"\n",
    "new_string = my_string + \" World\"\n",
    "print(my_string)     # Output: Hello\n",
    "print(new_string)    # Output: Hello World\n"
   ]
  },
  {
   "cell_type": "code",
   "execution_count": null,
   "id": "edbf2794",
   "metadata": {},
   "outputs": [],
   "source": []
  }
 ],
 "metadata": {
  "kernelspec": {
   "display_name": "Python 3 (ipykernel)",
   "language": "python",
   "name": "python3"
  },
  "language_info": {
   "codemirror_mode": {
    "name": "ipython",
    "version": 3
   },
   "file_extension": ".py",
   "mimetype": "text/x-python",
   "name": "python",
   "nbconvert_exporter": "python",
   "pygments_lexer": "ipython3",
   "version": "3.11.3"
  }
 },
 "nbformat": 4,
 "nbformat_minor": 5
}
